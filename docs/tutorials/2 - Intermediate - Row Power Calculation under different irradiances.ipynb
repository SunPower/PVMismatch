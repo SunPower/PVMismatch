{
 "cells": [
  {
   "cell_type": "markdown",
   "metadata": {},
   "source": [
    "# 2 - Intermediate - Row Power Calculation under different irradiances\n",
    "\n",
    "Example for calculating power of a row, assigning values from a pickle where each pickle cell is the irradiance value in a cell in the module.\n"
   ]
  },
  {
   "cell_type": "code",
   "execution_count": 1,
   "metadata": {},
   "outputs": [],
   "source": [
    "import pvmismatch  # this imports everything we need\n",
    "import numpy as np\n",
    "import seaborn as sns\n",
    "import pandas as pd"
   ]
  },
  {
   "cell_type": "markdown",
   "metadata": {},
   "source": [
    "#### Inputs\n",
    "\n",
    "This is a 20 modules single row, with 72 cells in portrait\n"
   ]
  },
  {
   "cell_type": "code",
   "execution_count": 2,
   "metadata": {},
   "outputs": [],
   "source": [
    "Nmods=20\n",
    "portraitorlandscape = 'portrait'\n",
    "numcells = 72"
   ]
  },
  {
   "cell_type": "markdown",
   "metadata": {},
   "source": [
    "#### Input Irradiance"
   ]
  },
  {
   "cell_type": "code",
   "execution_count": 3,
   "metadata": {},
   "outputs": [
    {
     "data": {
      "text/plain": [
       "<matplotlib.axes._subplots.AxesSubplot at 0x29ef5d90ef0>"
      ]
     },
     "execution_count": 3,
     "metadata": {},
     "output_type": "execute_result"
    },
    {
     "data": {
      "image/png": "[encoded data removed]",
      "text/plain": [
       "<Figure size 432x288 with 2 Axes>"
      ]
     },
     "metadata": {
      "needs_background": "light"
     },
     "output_type": "display_data"
    }
   ],
   "source": [
    "testfile = r'irr_1axis_11_06_13.pkl'\n",
    "df = pd.read_pickle(testfile)\n",
    "sns.heatmap(df, square=True)"
   ]
  },
  {
   "cell_type": "markdown",
   "metadata": {},
   "source": [
    "#### Select module type\n",
    "\n",
    "The stdpl matrix shows the placement of the cells in the module. The modules we are using are the standard PVMismatch modules, look at the references for the bypass diode groups, but because of this it does matter if the module is in ladscape or portrait.\n"
   ]
  },
  {
   "cell_type": "code",
   "execution_count": 4,
   "metadata": {},
   "outputs": [],
   "source": [
    "# cell placement for 'portrait'.\n",
    "if numcells == 72:\n",
    "    stdpl=np.array([[0,\t23,\t24,\t47,\t48,\t71],\n",
    "    [1,\t22,\t25,\t46,\t49,\t70],\n",
    "    [2,\t21,\t26,\t45,\t50,\t69],\n",
    "    [3,\t20,\t27,\t44,\t51,\t68],\n",
    "    [4,\t19,\t28,\t43,\t52,\t67],\n",
    "    [5,\t18,\t29,\t42,\t53,\t66],\n",
    "    [6,\t17,\t30,\t41,\t54,\t65],\n",
    "    [7,\t16,\t31,\t40,\t55,\t64],\n",
    "    [8,\t15,\t32,\t39,\t56,\t63],\n",
    "    [9,\t14,\t33,\t38,\t57,\t62],\n",
    "    [10,\t13,\t34,\t37,\t58,\t61],\n",
    "    [11,\t12,\t35,\t36,\t59,\t60]])\n",
    "\n",
    "elif numcells == 96:\n",
    "    stdpl=np.array([[0,\t23,\t24,\t47,\t48,\t71,\t72,\t95],\n",
    "        [1,\t22,\t25,\t46,\t49,\t70,\t73,\t94],\n",
    "        [2,\t21,\t26,\t45,\t50,\t69,\t74,\t93],\n",
    "        [3,\t20,\t27,\t44,\t51,\t68,\t75,\t92],\n",
    "        [4,\t19,\t28,\t43,\t52,\t67,\t76,\t91],\n",
    "        [5,\t18,\t29,\t42,\t53,\t66,\t77,\t90],\n",
    "        [6,\t17,\t30,\t41,\t54,\t65,\t78,\t89],\n",
    "        [7,\t16,\t31,\t40,\t55,\t64,\t79,\t88],\n",
    "        [8,\t15,\t32,\t39,\t56,\t63,\t80,\t87],\n",
    "        [9,\t14,\t33,\t38,\t57,\t62,\t81,\t86],\n",
    "        [10,\t13,\t34,\t37,\t58,\t61,\t82,\t85],\n",
    "        [11,\t12,\t35,\t36,\t59,\t60,\t83,\t84]])\n",
    "\n",
    "if portraitorlandscape == 'landscape':\n",
    "    stdpl = stdpl.transpose()\n",
    "\n",
    "cellsx = len(stdpl[1]); cellsy = len(stdpl)\n",
    "    "
   ]
  },
  {
   "cell_type": "markdown",
   "metadata": {},
   "source": [
    "#### Let's create the type of module we want"
   ]
  },
  {
   "cell_type": "code",
   "execution_count": 5,
   "metadata": {},
   "outputs": [],
   "source": [
    "if cellsx*cellsy == 72:\n",
    "    cell_pos = pvmismatch.pvmismatch_lib.pvmodule.STD72\n",
    "elif cellsx*cellsy == 96:\n",
    "    cell_pos = pvmismatch.pvmismatch_lib.pvmodule.STD96\n",
    "\n",
    "pvmod=pvmismatch.pvmismatch_lib.pvmodule.PVmodule(cell_pos=cell_pos)\n"
   ]
  },
  {
   "cell_type": "markdown",
   "metadata": {},
   "source": [
    "#### Let's make the system be just 1 module"
   ]
  },
  {
   "cell_type": "code",
   "execution_count": 6,
   "metadata": {},
   "outputs": [],
   "source": [
    "#### Let's create the type of module we want\n",
    "\n",
    "if cellsx*cellsy == 72:\n",
    "    cell_pos = pvmismatch.pvmismatch_lib.pvmodule.STD72\n",
    "elif cellsx*cellsy == 96:\n",
    "    cell_pos = pvmismatch.pvmismatch_lib.pvmodule.STD96\n",
    "\n",
    "pvmod=pvmismatch.pvmismatch_lib.pvmodule.PVmodule(cell_pos=cell_pos)"
   ]
  },
  {
   "cell_type": "markdown",
   "metadata": {},
   "source": [
    "#### Let's make the 1 row, with 20 modules"
   ]
  },
  {
   "cell_type": "code",
   "execution_count": 7,
   "metadata": {},
   "outputs": [
    {
     "name": "stdout",
     "output_type": "stream",
     "text": [
      "Results at STC, no modifications yet\n",
      " Pmp: 4818.961 [W], Eff: 21.825 [%], FF: 78.726 [%]\n",
      " Imp: 5.915 [A], Vmp: 814.665 [V], Isc: 6.306 [A], Voc: 970.752 [V]\n"
     ]
    }
   ],
   "source": [
    "pvsys = pvmismatch.pvsystem.PVsystem(numberStrs=1, numberMods=Nmods, pvmods=pvmod)  \n",
    "\n",
    "print(\"Results at STC, no modifications yet\")\n",
    "print (\" Pmp: %1.3f [W], Eff: %1.3f [%%], FF: %1.3F [%%]\" % (pvsys.Pmp, pvsys.eff*100, pvsys.FF*100))\n",
    "print (\" Imp: %1.3f [A], Vmp: %1.3f [V], Isc: %1.3f [A], Voc: %1.3f [V]\" % (pvsys.Imp, pvsys.Vmp, pvsys.Isc, pvsys.Voc))\n",
    "  "
   ]
  },
  {
   "cell_type": "markdown",
   "metadata": {},
   "source": [
    "#### Assign the dataframe irradiances to each cell in each module\n",
    "\n",
    "We do this by creating a dictionary. Remember that the dataframe is in W/m2 and PVMismatch uses kW/m2 as irradiance inputs, so we have to divide by a 1000. "
   ]
  },
  {
   "cell_type": "code",
   "execution_count": 8,
   "metadata": {},
   "outputs": [],
   "source": [
    "modDict = {}\n",
    "for i in range (0, Nmods):\n",
    "        modDict[i] = [df[i*cellsx:(i+1)*cellsx].T/1000, stdpl]\n"
   ]
  },
  {
   "cell_type": "code",
   "execution_count": 9,
   "metadata": {},
   "outputs": [
    {
     "name": "stdout",
     "output_type": "stream",
     "text": [
      "System results with the irradiance profile\n",
      " Pmp: 2879.027 [W], Eff: 21.366 [%], FF: 75.367 [%]\n",
      " Imp: 3.551 [A], Vmp: 810.869 [V], Isc: 4.016 [A], Voc: 951.246 [V]\n"
     ]
    }
   ],
   "source": [
    "pvsys.setSuns({0: modDict})   \n",
    "\n",
    "print(\"System results with the irradiance profile\")\n",
    "print (\" Pmp: %1.3f [W], Eff: %1.3f [%%], FF: %1.3F [%%]\" % (pvsys.Pmp, pvsys.eff*100, pvsys.FF*100))\n",
    "print (\" Imp: %1.3f [A], Vmp: %1.3f [V], Isc: %1.3f [A], Voc: %1.3f [V]\" % (pvsys.Imp, pvsys.Vmp, pvsys.Isc, pvsys.Voc))\n"
   ]
  }
 ],
 "metadata": {
  "kernelspec": {
   "display_name": "Python 3",
   "language": "python",
   "name": "python3"
  },
  "language_info": {
   "codemirror_mode": {
    "name": "ipython",
    "version": 3
   },
   "file_extension": ".py",
   "mimetype": "text/x-python",
   "name": "python",
   "nbconvert_exporter": "python",
   "pygments_lexer": "ipython3",
   "version": "3.7.3"
  }
 },
 "nbformat": 4,
 "nbformat_minor": 2
}
